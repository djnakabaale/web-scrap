{
 "cells": [
  {
   "cell_type": "markdown",
   "source": [
    "# Merge CSV files\n",
    "\n",
    "Merge csv files in a directory into a single file\n",
    "\n",
    "!NOTE: Files should have the same column names\n"
   ],
   "metadata": {}
  },
  {
   "cell_type": "code",
   "execution_count": null,
   "source": [
    "import pandas as pd\n",
    "from pathlib import Path"
   ],
   "outputs": [],
   "metadata": {}
  },
  {
   "cell_type": "markdown",
   "source": [
    "### File Locations\n",
    "\n",
    "- make sure merge (target and destination) folders are created"
   ],
   "metadata": {}
  },
  {
   "cell_type": "code",
   "execution_count": null,
   "source": [
    "MERGE_TARGET_FOLDER = 'data/merge'\n",
    "MERGE_DESTINATION_FOLDER = 'data/merged'\n",
    "files_to_merge = []\n"
   ],
   "outputs": [],
   "metadata": {}
  },
  {
   "cell_type": "code",
   "execution_count": null,
   "source": [
    "for x in Path(MERGE_TARGET_FOLDER).iterdir():\n",
    "    if x.is_file() and x.name.endswith('.csv'):\n",
    "        files_to_merge.append(f\"{x.absolute()}\")"
   ],
   "outputs": [],
   "metadata": {}
  },
  {
   "cell_type": "markdown",
   "source": [
    "## Merge all\n",
    "\n",
    "- Merge all cleaned files into a single csv"
   ],
   "metadata": {}
  },
  {
   "cell_type": "code",
   "execution_count": null,
   "source": [
    "df = pd.concat(map(pd.read_csv, files_to_merge), ignore_index=True)"
   ],
   "outputs": [],
   "metadata": {}
  },
  {
   "cell_type": "code",
   "execution_count": null,
   "source": [
    "cols_to_drop = ['Unnamed: 0']\n",
    "df = df.drop(cols_to_drop, axis='columns')"
   ],
   "outputs": [],
   "metadata": {}
  },
  {
   "cell_type": "code",
   "execution_count": null,
   "source": [
    "# save final dataframe\n",
    "df.to_csv(Path(MERGE_DESTINATION_FOLDER)/'result.csv')\n",
    "df.info()"
   ],
   "outputs": [],
   "metadata": {}
  }
 ],
 "metadata": {
  "kernelspec": {
   "name": "python3",
   "display_name": "Python 3.8.2 64-bit ('env': venv)"
  },
  "language_info": {
   "codemirror_mode": {
    "name": "ipython",
    "version": 3
   },
   "file_extension": ".py",
   "mimetype": "text/x-python",
   "name": "python",
   "nbconvert_exporter": "python",
   "pygments_lexer": "ipython3",
   "version": "3.8.2"
  },
  "interpreter": {
   "hash": "a8b1e56ac450118275370cf1d8c7b00df2cf767a5bb2b2682ab74a4bd45fd227"
  }
 },
 "nbformat": 4,
 "nbformat_minor": 4
}