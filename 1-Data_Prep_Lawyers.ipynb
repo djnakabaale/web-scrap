{
 "cells": [
  {
   "cell_type": "markdown",
   "source": [
    "# Immigration Lawyers\n",
    "\n",
    "## Data Sources\n",
    "\n",
    "- [Justia](https://www.justia.com)"
   ],
   "metadata": {}
  },
  {
   "cell_type": "code",
   "execution_count": null,
   "source": [
    "import re\n",
    "import json\n",
    "import pandas as pd\n",
    "from pathlib import Path\n",
    "from datetime import datetime"
   ],
   "outputs": [],
   "metadata": {}
  },
  {
   "cell_type": "markdown",
   "source": [
    "### File Locations\n",
    "\n",
    "- review folder structure and provide filenames"
   ],
   "metadata": {}
  },
  {
   "cell_type": "code",
   "execution_count": null,
   "source": [
    "today = datetime.today()\n",
    "TARGET_FOLDER='data/raw'\n",
    "DESTINATION_FOLDER='data/processed'\n",
    "FILENAME='all-states-justia-lawyers.csv'\n",
    "in_file = Path(TARGET_FOLDER)/FILENAME\n",
    "summary_file = Path(DESTINATION_FOLDER)/f'{FILENAME}-{today:%b-%d-%Y}.csv'"
   ],
   "outputs": [],
   "metadata": {}
  },
  {
   "cell_type": "code",
   "execution_count": null,
   "source": [
    "df = pd.read_csv(in_file)"
   ],
   "outputs": [],
   "metadata": {}
  },
  {
   "cell_type": "markdown",
   "source": [
    "## Column Cleanup\n",
    "\n",
    "- rename columns"
   ],
   "metadata": {}
  },
  {
   "cell_type": "code",
   "execution_count": null,
   "source": [
    "cols_to_rename = {'lawyer':'Full Name', 'Website':'non-website', 'Website-href':'Website', 'Profile Picture-src': 'Profile Picture', 'Office-info':'Office'}\n",
    "df.rename(columns=cols_to_rename, inplace=True)"
   ],
   "outputs": [],
   "metadata": {}
  },
  {
   "cell_type": "code",
   "execution_count": null,
   "source": [
    "def clean_description(s:str):\n",
    "    return s.split('Biography')[1].strip() if type(s) is str and \"Biography\" in s else None\n",
    "        "
   ],
   "outputs": [],
   "metadata": {}
  },
  {
   "cell_type": "code",
   "execution_count": null,
   "source": [
    "df['Description'] = df['Description'].apply(clean_description)"
   ],
   "outputs": [],
   "metadata": {}
  },
  {
   "cell_type": "markdown",
   "source": [
    "# Get phone numbers from office info\n",
    "\n",
    "- get toll-free number\n",
    "- get telephone number\n",
    "- get fax number"
   ],
   "metadata": {}
  },
  {
   "cell_type": "code",
   "execution_count": null,
   "source": [
    "# remove non-numeric characters\n",
    "# https://stackoverflow.com/questions/17336943/removing-non-numeric-characters-from-a-string\n",
    "def remove_non_numeric_chars(s: str):\n",
    "    return re.sub('[^0-9]', '', s) if type(s) is str else None\n"
   ],
   "outputs": [],
   "metadata": {}
  },
  {
   "cell_type": "code",
   "execution_count": null,
   "source": [
    "# get telephone number if exists\n",
    "def get_tel_num(s):\n",
    "    obj = json.loads(s)\n",
    "    info = obj[0]['Office-info']\n",
    "    return remove_non_numeric_chars(info.split('Telephone:')[1].split(':')[0]) if \"Telephone:\" in info else None\n"
   ],
   "outputs": [],
   "metadata": {}
  },
  {
   "cell_type": "code",
   "execution_count": null,
   "source": [
    "# get fax number if exists\n",
    "def get_fax_num(s):\n",
    "    obj = json.loads(s)\n",
    "    info = obj[0]['Office-info']\n",
    "    return remove_non_numeric_chars(info.split('Fax:')[1].split(':')[0]) if \"Fax:\" in info else None\n"
   ],
   "outputs": [],
   "metadata": {}
  },
  {
   "cell_type": "code",
   "execution_count": null,
   "source": [
    "# get toll-free numer if exists\n",
    "def get_toll_free_num(s):\n",
    "    obj = json.loads(s)\n",
    "    info = obj[0]['Office-info']\n",
    "    return remove_non_numeric_chars(info.split('Toll-Free:')[1].split(':')[0]) if \"Toll-Free:\" in info else None\n"
   ],
   "outputs": [],
   "metadata": {}
  },
  {
   "cell_type": "code",
   "execution_count": null,
   "source": [
    "# update df with formatted phone and fax numbers\n",
    "df['Phone Number'] = df['Office'].apply(get_tel_num)\n",
    "df['Fax'] = df['Office'].apply(get_fax_num)\n",
    "df['Mobile Number'] = df['Office'].apply(get_toll_free_num)"
   ],
   "outputs": [],
   "metadata": {}
  },
  {
   "cell_type": "markdown",
   "source": [
    "# More column cleanup \n",
    "\n",
    "- drop columns that are not needed in the final df\n",
    "- drop rows with null values based on criteria\n",
    "- add default columns\n",
    "- re-arrange columns"
   ],
   "metadata": {}
  },
  {
   "cell_type": "code",
   "execution_count": null,
   "source": [
    "# drop unnecessary columns\n",
    "cols_to_drop = ['web-scraper-order', 'web-scraper-start-url',\n",
    "                'lawyer-href', 'non-website', 'Office', 'Office-info-class']\n",
    "df = df.drop(cols_to_drop, axis='columns')\n"
   ],
   "outputs": [],
   "metadata": {}
  },
  {
   "cell_type": "code",
   "execution_count": null,
   "source": [
    "# delete rows with missing values in all of the selected columns\n",
    "row_missing_values = ['Phone Number', 'Website', 'Address']\n",
    "df = df.dropna(how='all', subset=row_missing_values)\n"
   ],
   "outputs": [],
   "metadata": {}
  },
  {
   "cell_type": "code",
   "execution_count": null,
   "source": [
    "# add default columns to dataframe\n",
    "df['Country'] = 'USA'\n",
    "df['Email'] = ''"
   ],
   "outputs": [],
   "metadata": {}
  },
  {
   "cell_type": "code",
   "execution_count": null,
   "source": [
    "# re-arrange columns\n",
    "rearrange_cols = ['Name of Business', 'Address', 'Country', 'State', 'City', 'Description',\n",
    "                  'Email', 'Phone Number', 'Website', 'Fax', 'Full Name', 'Mobile Number', 'Profile Picture']\n",
    "df = df[rearrange_cols]\n"
   ],
   "outputs": [],
   "metadata": {}
  },
  {
   "cell_type": "code",
   "execution_count": null,
   "source": [
    "# save cleaned data\n",
    "df.to_csv(summary_file)\n",
    "# df.info()"
   ],
   "outputs": [],
   "metadata": {}
  }
 ],
 "metadata": {
  "kernelspec": {
   "name": "python3",
   "display_name": "Python 3.8.2 64-bit ('env': venv)"
  },
  "language_info": {
   "codemirror_mode": {
    "name": "ipython",
    "version": 3
   },
   "file_extension": ".py",
   "mimetype": "text/x-python",
   "name": "python",
   "nbconvert_exporter": "python",
   "pygments_lexer": "ipython3",
   "version": "3.8.2"
  },
  "interpreter": {
   "hash": "a36dfe066308e5a586a6e66482a5ed971d1386ab1f0747d828351b404b2d301c"
  }
 },
 "nbformat": 4,
 "nbformat_minor": 4
}