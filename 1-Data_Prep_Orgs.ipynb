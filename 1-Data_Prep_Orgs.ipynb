{
 "cells": [
  {
   "cell_type": "markdown",
   "source": [
    "# Community Based Immigration Organizations\n",
    "\n",
    "## Data Sources\n",
    "\n",
    "- [Great Nonprofits](https://greatnonprofits.org)\n",
    "\n"
   ],
   "metadata": {}
  },
  {
   "cell_type": "code",
   "execution_count": null,
   "source": [
    "import re\n",
    "import pandas as pd\n",
    "from pathlib import Path\n",
    "from datetime import datetime\n"
   ],
   "outputs": [],
   "metadata": {}
  },
  {
   "cell_type": "markdown",
   "source": [
    "### File Locations"
   ],
   "metadata": {}
  },
  {
   "cell_type": "code",
   "execution_count": null,
   "source": [
    "today = datetime.today()\n",
    "TARGET_FOLDER='data/raw'\n",
    "DESTINATION_FOLDER='data/processed'\n",
    "FILENAME='all-states-non-profits.csv'\n",
    "in_file = Path(TARGET_FOLDER)/FILENAME\n",
    "summary_file = Path(DESTINATION_FOLDER)/f'{FILENAME}-{today:%b-%d-%Y}.csv'"
   ],
   "outputs": [],
   "metadata": {}
  },
  {
   "cell_type": "code",
   "execution_count": null,
   "source": [
    "df = pd.read_csv(in_file)"
   ],
   "outputs": [],
   "metadata": {}
  },
  {
   "cell_type": "markdown",
   "source": [
    "## Column Cleanup\n",
    "\n",
    "- Rename columns for consistency\n",
    "- get first and last names from full name column\n",
    "- remove non-numeric characters and spaces from phone number columns\n",
    "- delete unnecessary columns\n",
    "- re-arrange columns"
   ],
   "metadata": {}
  },
  {
   "cell_type": "code",
   "execution_count": null,
   "source": [
    "cols_to_rename = {'website': 'Website', 'profile picture-src': 'Profile Picture',\n",
    "                  'street address': 'Address', 'city': 'City', 'state': 'State', 'zip': 'Zip', 'country': 'Country'}\n",
    "df.rename(columns=cols_to_rename, inplace=True)\n"
   ],
   "outputs": [],
   "metadata": {}
  },
  {
   "cell_type": "markdown",
   "source": [
    "# Clean description\n",
    "\n",
    "- keep description text only and remove spaces from start and end of the string"
   ],
   "metadata": {}
  },
  {
   "cell_type": "code",
   "execution_count": null,
   "source": [
    "def get_description(s: str) -> str:\n",
    "    if isinstance(s, str):\n",
    "        if 'Causes:' in s and ' Mission:' in s:\n",
    "            split_str = s.split(' Mission:')\n",
    "            split_str[1] = 'Mission:' + split_str[1]\n",
    "            s = str(split_str[1])\n",
    "        elif 'Causes:' in s and ' Programs:' in s:\n",
    "            split_str = s.split(' Programs:')\n",
    "            split_str[1] = 'Programs:' + split_str[1]\n",
    "            s = str(split_str[1])\n",
    "        return s.replace('Causes:', '').replace('\\n', ' ').strip()\n"
   ],
   "outputs": [],
   "metadata": {}
  },
  {
   "cell_type": "code",
   "execution_count": null,
   "source": [
    "def get_services(s: str) -> str:\n",
    "    if isinstance(s, str):\n",
    "        if 'Causes:' in s and ' Mission:' in s:\n",
    "            split_str = s.split(' Mission:')\n",
    "            split_str[1] = 'Mission:' + split_str[1]\n",
    "            s = str(split_str[0])\n",
    "        elif 'Causes:' in s and ' Programs:' in s:\n",
    "            split_str = s.split(' Programs:')\n",
    "            split_str[1] = 'Programs:' + split_str[1]\n",
    "            s = str(split_str[0])\n",
    "        return s.replace('Causes:', '').replace('\\n', ' ').strip()\n"
   ],
   "outputs": [],
   "metadata": {}
  },
  {
   "cell_type": "code",
   "execution_count": null,
   "source": [
    "df['Description'] = df['overview'].apply(get_description)\n",
    "df['Services'] = df['overview'].apply(get_services)\n",
    "# df"
   ],
   "outputs": [],
   "metadata": {}
  },
  {
   "cell_type": "markdown",
   "source": [
    "# Get phone numbers from office info\n",
    "\n",
    "- get toll-free number\n",
    "- get telephone number\n",
    "- get fax number"
   ],
   "metadata": {}
  },
  {
   "cell_type": "code",
   "execution_count": null,
   "source": [
    "# remove non-numeric characters\n",
    "# https://stackoverflow.com/questions/17336943/removing-non-numeric-characters-from-a-string\n",
    "def remove_non_numeric_chars(s: str):\n",
    "    return re.sub('[^0-9]', '', s) if type(s) is str else None\n"
   ],
   "outputs": [],
   "metadata": {}
  },
  {
   "cell_type": "code",
   "execution_count": null,
   "source": [
    "# format phone numbers\n",
    "def clean_phone_num(s):\n",
    "    return remove_non_numeric_chars(s)"
   ],
   "outputs": [],
   "metadata": {}
  },
  {
   "cell_type": "code",
   "execution_count": null,
   "source": [
    "# update df with clean phone and fax numbers\n",
    "df['Phone'] = df['Phone'].apply(clean_phone_num)\n"
   ],
   "outputs": [],
   "metadata": {}
  },
  {
   "cell_type": "markdown",
   "source": [
    "# More cleaning\n",
    "\n",
    "- drop unnecessary columns\n",
    "- drop rows with missing data based on criteria provided\n",
    "- add missing columns with default values\n",
    "- re-arrange columns to desired order"
   ],
   "metadata": {}
  },
  {
   "cell_type": "code",
   "execution_count": null,
   "source": [
    "# drop unnecessary columns\n",
    "cols_to_drop = ['web-scraper-order', 'web-scraper-start-url', 'link', 'link-href', 'website-href', 'pagination', 'overview']\n",
    "df = df.drop(cols_to_drop, axis='columns')"
   ],
   "outputs": [],
   "metadata": {}
  },
  {
   "cell_type": "code",
   "execution_count": null,
   "source": [
    "# delete rows with missing values\n",
    "row_missing_values = ['Phone', 'Website', 'Address']\n",
    "df = df.dropna(how='all', subset=row_missing_values)\n"
   ],
   "outputs": [],
   "metadata": {}
  },
  {
   "cell_type": "code",
   "execution_count": null,
   "source": [
    "# add missing\n",
    "df['Email'] = ''\n"
   ],
   "outputs": [],
   "metadata": {}
  },
  {
   "cell_type": "code",
   "execution_count": null,
   "source": [
    "# re-arrange columns\n",
    "rearrange_cols = ['Organization Name', 'EIN Number', 'Address', 'Country', 'State', 'City', 'Description', 'Email', 'Phone', 'Website', 'Services', 'Profile Picture']\n",
    "df = df[rearrange_cols]"
   ],
   "outputs": [],
   "metadata": {}
  },
  {
   "cell_type": "markdown",
   "source": [
    "# Save cleaned data\n",
    "\n",
    "- export df as csv"
   ],
   "metadata": {}
  },
  {
   "cell_type": "code",
   "execution_count": null,
   "source": [
    "# df.to_csv(summary_file)\n",
    "df"
   ],
   "outputs": [],
   "metadata": {}
  }
 ],
 "metadata": {
  "kernelspec": {
   "name": "python3",
   "display_name": "Python 3.8.5 64-bit ('base': conda)"
  },
  "language_info": {
   "codemirror_mode": {
    "name": "ipython",
    "version": 3
   },
   "file_extension": ".py",
   "mimetype": "text/x-python",
   "name": "python",
   "nbconvert_exporter": "python",
   "pygments_lexer": "ipython3",
   "version": "3.8.5"
  },
  "interpreter": {
   "hash": "dca0ade3e726a953b501b15e8e990130d2b7799f14cfd9f4271676035ebe5511"
  }
 },
 "nbformat": 4,
 "nbformat_minor": 4
}